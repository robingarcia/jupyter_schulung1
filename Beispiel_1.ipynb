{
 "cells": [
  {
   "cell_type": "code",
   "execution_count": 1,
   "id": "dca90d48-e8da-4e22-ba3a-74c97401a948",
   "metadata": {},
   "outputs": [
    {
     "name": "stdout",
     "output_type": "stream",
     "text": [
      "Erster push\n"
     ]
    }
   ],
   "source": [
    "print(\"Erster push\")"
   ]
  },
  {
   "cell_type": "code",
   "execution_count": null,
   "id": "c3835ac0-a4d7-404f-8f12-8c83be689b4d",
   "metadata": {},
   "outputs": [],
   "source": []
  }
 ],
 "metadata": {
  "kernelspec": {
   "display_name": "",
   "name": ""
  },
  "language_info": {
   "name": ""
  }
 },
 "nbformat": 4,
 "nbformat_minor": 5
}
